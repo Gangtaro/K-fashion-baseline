{
 "cells": [
  {
   "cell_type": "code",
   "execution_count": 1,
   "metadata": {},
   "outputs": [],
   "source": [
    "import json\n",
    "import numpy as np\n",
    "import cv2\n",
    "from matplotlib import pyplot as plt\n",
    "from pycocotools import mask as mutils\n",
    "from tqdm import tqdm\n",
    "import pandas as pd\n",
    "import os"
   ]
  },
  {
   "cell_type": "code",
   "execution_count": 2,
   "metadata": {},
   "outputs": [],
   "source": [
    "filepath = '../sample.json'"
   ]
  },
  {
   "cell_type": "code",
   "execution_count": 3,
   "metadata": {},
   "outputs": [],
   "source": [
    "with open(filepath) as json_file:\n",
    "    json_data = json.load(json_file)"
   ]
  },
  {
   "cell_type": "code",
   "execution_count": 4,
   "metadata": {},
   "outputs": [],
   "source": [
    "def rle_encode(mask):\n",
    "    pixels = mask.T.flatten()\n",
    "    # We need to allow for cases where there is a '1' at either end of the sequence.\n",
    "    # We do this by padding with a zero at each end when needed.\n",
    "    use_padding = False\n",
    "    if pixels[0] or pixels[-1]:\n",
    "        use_padding = True\n",
    "        pixel_padded = np.zeros([len(pixels) + 2], dtype=pixels.dtype)\n",
    "        pixel_padded[1:-1] = pixels\n",
    "        pixels = pixel_padded\n",
    "    rle = np.where(pixels[1:] != pixels[:-1])[0] + 2\n",
    "    if use_padding:\n",
    "        rle = rle - 1\n",
    "    rle[1::2] = rle[1::2] - rle[:-1:2]\n",
    "    return rle\n",
    "\n",
    "\n",
    "def rle_to_string(runs):\n",
    "    return ' '.join(str(x) for x in runs)\n",
    "\n",
    "\n",
    "# Used only for testing.\n",
    "# This is copied from https://www.kaggle.com/paulorzp/run-length-encode-and-decode.\n",
    "# Thanks to Paulo Pinto.\n",
    "def rle_decode(rle_str, mask_shape, mask_dtype):\n",
    "    s = rle_str.split()\n",
    "    starts, lengths = [np.asarray(x, dtype=int) for x in (s[0:][::2], s[1:][::2])]\n",
    "    starts -= 1\n",
    "    ends = starts + lengths\n",
    "    mask = np.zeros(np.prod(mask_shape), dtype=mask_dtype)\n",
    "    for lo, hi in zip(starts, ends):\n",
    "        mask[lo:hi] = 1\n",
    "    return mask.reshape(mask_shape[::-1]).T"
   ]
  },
  {
   "cell_type": "code",
   "execution_count": 5,
   "metadata": {},
   "outputs": [
    {
     "name": "stderr",
     "output_type": "stream",
     "text": [
      "100%|██████████| 100/100 [00:00<00:00, 778.32it/s]\n"
     ]
    }
   ],
   "source": [
    "encoded_pixels = []\n",
    "img_ids = []\n",
    "height = []\n",
    "width = []\n",
    "category_ids = []\n",
    "\n",
    "for i in tqdm(range(len(json_data))):\n",
    "    encoded_pixels.append(rle_to_string(rle_encode(mutils.decode(json_data[i]['segmentation']))))\n",
    "    img_ids.append(json_data[i]['image_id'])\n",
    "    category_ids.append(json_data[i]['category_id'])\n",
    "    height.append(json_data[i]['segmentation']['size'][0])\n",
    "    width.append(json_data[i]['segmentation']['size'][1])"
   ]
  },
  {
   "cell_type": "code",
   "execution_count": 6,
   "metadata": {},
   "outputs": [],
   "source": [
    "data = {'ImageId': img_ids,\n",
    "        'EncodedPixels': encoded_pixels,\n",
    "        'Height': height,\n",
    "        'Width': width,\n",
    "        'CategoryId': category_ids}"
   ]
  },
  {
   "cell_type": "code",
   "execution_count": 8,
   "metadata": {},
   "outputs": [],
   "source": [
    "submission = pd.DataFrame(data)\n",
    "answer_dummy = submission.sample(50)"
   ]
  },
  {
   "cell_type": "code",
   "execution_count": 9,
   "metadata": {},
   "outputs": [
    {
     "data": {
      "text/html": [
       "<div>\n",
       "<style scoped>\n",
       "    .dataframe tbody tr th:only-of-type {\n",
       "        vertical-align: middle;\n",
       "    }\n",
       "\n",
       "    .dataframe tbody tr th {\n",
       "        vertical-align: top;\n",
       "    }\n",
       "\n",
       "    .dataframe thead th {\n",
       "        text-align: right;\n",
       "    }\n",
       "</style>\n",
       "<table border=\"1\" class=\"dataframe\">\n",
       "  <thead>\n",
       "    <tr style=\"text-align: right;\">\n",
       "      <th></th>\n",
       "      <th>ImageId</th>\n",
       "      <th>EncodedPixels</th>\n",
       "      <th>Height</th>\n",
       "      <th>Width</th>\n",
       "      <th>CategoryId</th>\n",
       "    </tr>\n",
       "  </thead>\n",
       "  <tbody>\n",
       "    <tr>\n",
       "      <th>0</th>\n",
       "      <td>94535</td>\n",
       "      <td>184366 19 185161 30 185957 36 186752 43 187549...</td>\n",
       "      <td>800</td>\n",
       "      <td>800</td>\n",
       "      <td>1</td>\n",
       "    </tr>\n",
       "    <tr>\n",
       "      <th>1</th>\n",
       "      <td>94535</td>\n",
       "      <td>185970 7 186767 18 187564 28 188360 34 189156 ...</td>\n",
       "      <td>800</td>\n",
       "      <td>800</td>\n",
       "      <td>2</td>\n",
       "    </tr>\n",
       "    <tr>\n",
       "      <th>2</th>\n",
       "      <td>94535</td>\n",
       "      <td>185978 6 186764 22 187560 29 188356 35 189153 ...</td>\n",
       "      <td>800</td>\n",
       "      <td>800</td>\n",
       "      <td>3</td>\n",
       "    </tr>\n",
       "    <tr>\n",
       "      <th>3</th>\n",
       "      <td>86297</td>\n",
       "      <td>222868 47 223649 85 224411 135 225200 155 2259...</td>\n",
       "      <td>800</td>\n",
       "      <td>800</td>\n",
       "      <td>10</td>\n",
       "    </tr>\n",
       "    <tr>\n",
       "      <th>4</th>\n",
       "      <td>86297</td>\n",
       "      <td>180070 12 180865 27 181661 39 182456 47 183252...</td>\n",
       "      <td>800</td>\n",
       "      <td>800</td>\n",
       "      <td>20</td>\n",
       "    </tr>\n",
       "  </tbody>\n",
       "</table>\n",
       "</div>"
      ],
      "text/plain": [
       "   ImageId                                      EncodedPixels  Height  Width  \\\n",
       "0    94535  184366 19 185161 30 185957 36 186752 43 187549...     800    800   \n",
       "1    94535  185970 7 186767 18 187564 28 188360 34 189156 ...     800    800   \n",
       "2    94535  185978 6 186764 22 187560 29 188356 35 189153 ...     800    800   \n",
       "3    86297  222868 47 223649 85 224411 135 225200 155 2259...     800    800   \n",
       "4    86297  180070 12 180865 27 181661 39 182456 47 183252...     800    800   \n",
       "\n",
       "   CategoryId  \n",
       "0           1  \n",
       "1           2  \n",
       "2           3  \n",
       "3          10  \n",
       "4          20  "
      ]
     },
     "execution_count": 9,
     "metadata": {},
     "output_type": "execute_result"
    }
   ],
   "source": [
    "submission.head()"
   ]
  },
  {
   "cell_type": "code",
   "execution_count": null,
   "metadata": {},
   "outputs": [],
   "source": [
    "answer_dummy.head()"
   ]
  },
  {
   "cell_type": "code",
   "execution_count": null,
   "metadata": {},
   "outputs": [],
   "source": [
    "submission.to_csv('submission.csv', index=False)\n",
    "answer_dummy.to_csv('answer_dummy.csv', index=False)"
   ]
  }
 ],
 "metadata": {
  "kernelspec": {
   "display_name": "opinion",
   "language": "python",
   "name": "opinion"
  },
  "language_info": {
   "codemirror_mode": {
    "name": "ipython",
    "version": 3
   },
   "file_extension": ".py",
   "mimetype": "text/x-python",
   "name": "python",
   "nbconvert_exporter": "python",
   "pygments_lexer": "ipython3",
   "version": "3.7.9"
  }
 },
 "nbformat": 4,
 "nbformat_minor": 4
}
