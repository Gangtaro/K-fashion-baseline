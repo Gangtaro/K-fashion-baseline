{
 "cells": [
  {
   "cell_type": "code",
   "execution_count": 9,
   "metadata": {},
   "outputs": [],
   "source": [
    "import numpy as np\n",
    "import pandas as pd\n",
    "import matplotlib.pyplot as plt"
   ]
  },
  {
   "cell_type": "code",
   "execution_count": 10,
   "metadata": {},
   "outputs": [],
   "source": [
    "gt = pd.read_csv('answer_dummy.csv')\n",
    "pred = pd.read_csv('submission.csv')"
   ]
  },
  {
   "cell_type": "code",
   "execution_count": 11,
   "metadata": {},
   "outputs": [],
   "source": [
    "def calc_IoU(A,B):\n",
    "    AorB = np.logical_or(A,B).astype('int')\n",
    "    AandB = np.logical_and(A,B).astype('int')\n",
    "    IoU = AandB.sum() / AorB.sum()\n",
    "    return IoU\n",
    "\n",
    "def rle_to_mask(rle_list, SHAPE):\n",
    "    tmp_flat = np.zeros(SHAPE[0]*SHAPE[1])\n",
    "    if len(rle_list) == 1:\n",
    "        mask = np.reshape(tmp_flat, SHAPE).T\n",
    "    else:\n",
    "        strt = rle_list[::2]\n",
    "        length = rle_list[1::2]\n",
    "        for i,v in zip(strt,length):\n",
    "            tmp_flat[(int(i)-1):(int(i)-1)+int(v)] = 255\n",
    "        mask = np.reshape(tmp_flat, SHAPE).T\n",
    "    return mask\n",
    "\n",
    "def calc_IoU_threshold(data):\n",
    "    # Note: This rle_to_mask should be called before loop below for speed-up! We currently implement here to reduse memory usage.\n",
    "    mask_gt = rle_to_mask(data['EncodedPixels_gt'].split(), (int(data['Height']), int(data['Width'])))\n",
    "    mask_pred = rle_to_mask(data['EncodedPixels_pred'].split(), (int(data['Height']), int(data['Width'])))\n",
    "    return calc_IoU(mask_gt, mask_pred)"
   ]
  },
  {
   "cell_type": "code",
   "execution_count": 12,
   "metadata": {},
   "outputs": [],
   "source": [
    "def evaluation(gt_df, pred_df):\n",
    "    eval_df = pd.merge(gt_df, pred_df, how='outer', on=['ImageId', 'CategoryId'], suffixes=['_gt', '_pred'])\n",
    "    eval_df = eval_df[['ImageId', 'EncodedPixels_gt', 'Height_gt', 'Width_gt', 'CategoryId', 'EncodedPixels_pred']]\n",
    "    eval_df = eval_df.rename(columns={'Height_gt': 'Height',\n",
    "                            'Width_gt': 'Width'})\n",
    "    # IoU for True Positive\n",
    "    idx_ = eval_df['EncodedPixels_gt'].notnull() & eval_df['EncodedPixels_pred'].notnull()\n",
    "    IoU = eval_df[idx_].apply(calc_IoU_threshold, axis=1)\n",
    "\n",
    "    # False Positive\n",
    "    fp = (eval_df['EncodedPixels_gt'].isnull() & eval_df['EncodedPixels_pred'].notnull()).sum()\n",
    "\n",
    "    # False Negative\n",
    "    fn = (eval_df['EncodedPixels_gt'].notnull() & eval_df['EncodedPixels_pred'].isnull()).sum()\n",
    "\n",
    "    threshold_IoU = [0.5]\n",
    "    scores = []\n",
    "    for th in threshold_IoU:\n",
    "        # True Positive\n",
    "        tp = (IoU > th).sum()\n",
    "        maybe_fp = (IoU <= th).sum()\n",
    "\n",
    "        # False Positive (not Ground Truth) + False Positive (under IoU threshold)\n",
    "        fp_IoU = fp + maybe_fp\n",
    "\n",
    "        # Calculate evaluation score\n",
    "        score = tp / (tp + fp_IoU + fn)\n",
    "        scores.append(score)\n",
    "        print(f\"Threshold: {th}, Precision: {score}, TP: {tp}, FP: {fp_IoU}, FN: {fn}\")\n",
    "\n",
    "    mean_score = sum(scores) / len(threshold_IoU)\n",
    "    print(f\"Mean precision score: {mean_score}\")\n",
    "    return mean_score"
   ]
  },
  {
   "cell_type": "code",
   "execution_count": 13,
   "metadata": {},
   "outputs": [
    {
     "name": "stdout",
     "output_type": "stream",
     "text": [
      "Threshold: 0.5, Precision: 0.5, TP: 50, FP: 50, FN: 0\n",
      "Mean precision score: 0.5\n"
     ]
    },
    {
     "data": {
      "text/plain": [
       "0.5"
      ]
     },
     "execution_count": 13,
     "metadata": {},
     "output_type": "execute_result"
    }
   ],
   "source": [
    "evaluation(gt, pred)"
   ]
  },
  {
   "cell_type": "code",
   "execution_count": 6,
   "metadata": {},
   "outputs": [
    {
     "data": {
      "text/plain": [
       "'242656 82 243447 117 244242 133 245038 143 245835 150 246631 162 247427 174 248223 185 249018 196 249815 204 250613 211 251411 215 252209 218 253008 221 253807 223 254606 225 255405 228 256204 230 257003 232 257802 234 258600 237 259399 239 260199 240 260998 241 261797 243 262597 243 263397 243 264196 244 264996 244 265796 245 266595 246 267395 246 268195 246 268995 246 269794 247 270594 247 271394 246 272194 246 272994 246 273794 246 274593 246 275393 246 276193 246 276993 245 277793 245 278593 244 279393 244 280193 244 280993 243 281793 243 282593 242 283393 241 284193 241 284993 240 285793 239 286593 239 287394 237 288194 237 288994 237 289794 236 290594 236 291394 235 292194 235 292995 233 293795 233 294595 233 295395 233 296195 233 296995 233 297795 232 298595 232 299396 231 300196 231 300996 231 301796 231 302596 231 303396 230 304196 230 304996 230 305796 230 306596 230 307396 229 308196 229 308996 229 309796 229 310596 229 311396 229 312196 229 312996 229 313796 229 314596 228 315395 229 316195 229 316995 229 317795 229 318595 229 319395 229 320194 230 320994 230 321794 230 322594 230 323393 231 324193 231 324993 231 325793 231 326592 232 327392 232 328192 232 328991 233 329791 233 330590 235 331390 235 332190 235 332990 235 333789 236 334589 236 335389 236 336189 236 336988 237 337788 237 338588 237 339388 237 340188 237 340988 237 341788 237 342588 237 343388 237 344188 237 344988 238 345788 238 346588 238 347388 238 348188 238 348988 238 349788 238 350588 238 351389 237 352189 237 352989 237 353789 237 354589 237 355389 237 356190 236 356990 236 357791 235 358591 235 359392 234 360193 233 360993 233 361794 233 362594 233 363395 232 364195 232 364996 230 365796 230 366597 229 367398 228 368199 227 368999 227 369800 226 370601 225 371401 225 372202 224 373002 224 373803 222 374603 222 375404 221 376204 221 377005 220 377806 218 378606 218 379407 217 380207 216 381008 215 381808 215 382609 213 383410 212 384211 210 385011 210 385812 209 386612 208 387413 207 388213 206 389014 204 389814 204 390615 202 391415 201 392216 198 393016 197 393817 194 394618 191 395419 188 396219 186 397020 183 397821 181 398621 179 399422 175 400223 171 401024 166 401825 161 402626 156 403426 152 404227 146 405028 135 405828 126 406629 117 407430 109 408230 105 409031 100 409831 98 410632 95 411432 94 412231 94 413030 94 413829 94 414625 97 415421 100 416217 103 417014 105 417812 106 418609 109 419406 111 420202 115 420999 117 421797 119 422595 121 423393 122 424191 124 424990 124 425790 124 426589 124 427389 124 428189 123 428988 123 429788 123 430588 122 431388 121 432187 122 432987 121 433787 121 434587 120 435387 119 436187 119 436987 118 437787 116 438587 115 439387 114 440187 113 440987 112 441787 111 442587 110 443387 109 444187 108 444987 107 445787 105 446587 104 447387 102 448187 101 448987 100 449787 99 450587 97 451387 96 452187 94 452987 92 453787 90 454588 86 455388 83 456188 79 456988 75 457789 70 458589 66 459390 60 460193 50'"
      ]
     },
     "execution_count": 6,
     "metadata": {},
     "output_type": "execute_result"
    }
   ],
   "source": [
    "gt['EncodedPixels'][0]"
   ]
  },
  {
   "cell_type": "code",
   "execution_count": 7,
   "metadata": {},
   "outputs": [
    {
     "name": "stdout",
     "output_type": "stream",
     "text": [
      "[[0. 0. 0. ... 0. 0. 0.]\n",
      " [0. 0. 0. ... 0. 0. 0.]\n",
      " [0. 0. 0. ... 0. 0. 0.]\n",
      " ...\n",
      " [0. 0. 0. ... 0. 0. 0.]\n",
      " [0. 0. 0. ... 0. 0. 0.]\n",
      " [0. 0. 0. ... 0. 0. 0.]]\n"
     ]
    }
   ],
   "source": [
    "i = 0\n",
    "mask = rle_to_mask(gt['EncodedPixels'][i].split(), (int(gt['Height'][i]), int(gt['Width'][i])))\n",
    "print(mask)"
   ]
  },
  {
   "cell_type": "code",
   "execution_count": 8,
   "metadata": {},
   "outputs": [
    {
     "data": {
      "image/png": "[encoded data removed]",
      "text/plain": [
       "<Figure size 1080x432 with 10 Axes>"
      ]
     },
     "metadata": {
      "needs_background": "light"
     },
     "output_type": "display_data"
    }
   ],
   "source": [
    "fig, axs = plt.subplots(2,5, figsize=(15, 6))\n",
    "fig.subplots_adjust(hspace = .5, wspace=.001)\n",
    "\n",
    "axs = axs.ravel()\n",
    "\n",
    "for i in range(10):\n",
    "\n",
    "    axs[i].contourf(rle_to_mask(gt['EncodedPixels'][i].split(), (int(gt['Height'][i]), int(gt['Width'][i]))),5,cmap=plt.cm.Greys)\n",
    "    axs[i].set_title(str(250+i))"
   ]
  },
  {
   "cell_type": "code",
   "execution_count": null,
   "metadata": {},
   "outputs": [],
   "source": []
  }
 ],
 "metadata": {
  "kernelspec": {
   "display_name": "opinion",
   "language": "python",
   "name": "opinion"
  },
  "language_info": {
   "codemirror_mode": {
    "name": "ipython",
    "version": 3
   },
   "file_extension": ".py",
   "mimetype": "text/x-python",
   "name": "python",
   "nbconvert_exporter": "python",
   "pygments_lexer": "ipython3",
   "version": "3.7.9"
  }
 },
 "nbformat": 4,
 "nbformat_minor": 4
}
