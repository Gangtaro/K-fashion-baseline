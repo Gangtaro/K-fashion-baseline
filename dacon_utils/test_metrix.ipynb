{
 "cells": [
  {
   "cell_type": "code",
   "execution_count": null,
   "metadata": {},
   "outputs": [],
   "source": [
    "import numpy as np\n",
    "import pandas as pd"
   ]
  },
  {
   "cell_type": "code",
   "execution_count": null,
   "metadata": {},
   "outputs": [],
   "source": [
    "gt = pd.read_csv('answer_dummy.csv')\n",
    "pred = pd.read_csv('submission.csv')"
   ]
  },
  {
   "cell_type": "code",
   "execution_count": null,
   "metadata": {},
   "outputs": [],
   "source": [
    "def calc_IoU(A,B):\n",
    "    AorB = np.logical_or(A,B).astype('int')\n",
    "    AandB = np.logical_and(A,B).astype('int')\n",
    "    IoU = AandB.sum() / AorB.sum()\n",
    "    return IoU\n",
    "\n",
    "def rle_to_mask(rle_list, SHAPE):\n",
    "    tmp_flat = np.zeros(SHAPE[0]*SHAPE[1])\n",
    "    if len(rle_list) == 1:\n",
    "        mask = np.reshape(tmp_flat, SHAPE).T\n",
    "    else:\n",
    "        strt = rle_list[::2]\n",
    "        length = rle_list[1::2]\n",
    "        for i,v in zip(strt,length):\n",
    "            tmp_flat[(int(i)-1):(int(i)-1)+int(v)] = 255\n",
    "        mask = np.reshape(tmp_flat, SHAPE).T\n",
    "    return mask\n",
    "\n",
    "def calc_IoU_threshold(data):\n",
    "    # Note: This rle_to_mask should be called before loop below for speed-up! We currently implement here to reduse memory usage.\n",
    "    mask_gt = rle_to_mask(data['EncodedPixels_gt'].split(), (int(data['Height']), int(data['Width'])))\n",
    "    mask_pred = rle_to_mask(data['EncodedPixels_pred'].split(), (int(data['Height']), int(data['Width'])))\n",
    "    return calc_IoU(mask_gt, mask_pred)"
   ]
  },
  {
   "cell_type": "code",
   "execution_count": null,
   "metadata": {},
   "outputs": [],
   "source": [
    "def evaluation(gt_df, pred_df):\n",
    "    eval_df = pd.merge(gt_df, pred_df, how='outer', on=['ImageId', 'CategoryId'], suffixes=['_gt', '_pred'])\n",
    "    eval_df = eval_df[['ImageId', 'EncodedPixels_gt', 'Height_gt', 'Width_gt', 'CategoryId', 'EncodedPixels_pred']]\n",
    "    eval_df = eval_df.rename(columns={'Height_gt': 'Height',\n",
    "                            'Width_gt': 'Width'})\n",
    "    # IoU for True Positive\n",
    "    idx_ = eval_df['EncodedPixels_gt'].notnull() & eval_df['EncodedPixels_pred'].notnull()\n",
    "    IoU = eval_df[idx_].apply(calc_IoU_threshold, axis=1)\n",
    "\n",
    "    # False Positive\n",
    "    fp = (eval_df['EncodedPixels_gt'].isnull() & eval_df['EncodedPixels_pred'].notnull()).sum()\n",
    "\n",
    "    # False Negative\n",
    "    fn = (eval_df['EncodedPixels_gt'].notnull() & eval_df['EncodedPixels_pred'].isnull()).sum()\n",
    "\n",
    "    threshold_IoU = [0.5]\n",
    "    scores = []\n",
    "    for th in threshold_IoU:\n",
    "        # True Positive\n",
    "        tp = (IoU > th).sum()\n",
    "        maybe_fp = (IoU <= th).sum()\n",
    "\n",
    "        # False Positive (not Ground Truth) + False Positive (under IoU threshold)\n",
    "        fp_IoU = fp + maybe_fp\n",
    "\n",
    "        # Calculate evaluation score\n",
    "        score = tp / (tp + fp_IoU + fn)\n",
    "        scores.append(score)\n",
    "        print(f\"Threshold: {th}, Precision: {score}, TP: {tp}, FP: {fp_IoU}, FN: {fn}\")\n",
    "\n",
    "    mean_score = sum(scores) / len(threshold_IoU)\n",
    "    print(f\"Mean precision score: {mean_score}\")\n",
    "    return mean_score"
   ]
  },
  {
   "cell_type": "code",
   "execution_count": null,
   "metadata": {},
   "outputs": [],
   "source": [
    "evaluation(gt, pred)"
   ]
  },
  {
   "cell_type": "code",
   "execution_count": null,
   "metadata": {},
   "outputs": [],
   "source": []
  }
 ],
 "metadata": {
  "kernelspec": {
   "display_name": "opinion",
   "language": "python",
   "name": "opinion"
  },
  "language_info": {
   "codemirror_mode": {
    "name": "ipython",
    "version": 3
   },
   "file_extension": ".py",
   "mimetype": "text/x-python",
   "name": "python",
   "nbconvert_exporter": "python",
   "pygments_lexer": "ipython3",
   "version": "3.7.9"
  }
 },
 "nbformat": 4,
 "nbformat_minor": 4
}
